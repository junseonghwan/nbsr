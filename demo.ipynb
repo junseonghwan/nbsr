{
 "cells": [
  {
   "cell_type": "code",
   "execution_count": 90,
   "id": "3c6ce5ef-7008-4947-9327-32014381c5f4",
   "metadata": {},
   "outputs": [],
   "source": [
    "from nbsr.main import run, generate_results\n",
    "from nbsr.nbsr_config import NBSRConfig"
   ]
  },
  {
   "cell_type": "code",
   "execution_count": 91,
   "id": "28dc4fbe-1d0b-4aba-8a12-3e659790fb68",
   "metadata": {},
   "outputs": [],
   "source": [
    "import os\n",
    "import numpy as np\n",
    "import pandas as pd\n",
    "import matplotlib.pyplot as plt\n",
    "import seaborn as sbn\n",
    "from pathlib import Path\n",
    "import time\n",
    "import json\n",
    "import torch"
   ]
  },
  {
   "cell_type": "code",
   "execution_count": null,
   "id": "8a7cb387-6ba2-4e9c-99ed-5dbca9c0c2af",
   "metadata": {},
   "outputs": [],
   "source": []
  },
  {
   "cell_type": "markdown",
   "id": "6ebbb595-5d7d-47a1-bdce-99cae8097fe2",
   "metadata": {},
   "source": [
    "# NBSR workflow\n",
    "\n",
    "- Specify data locations and covariates in config object.\n",
    "- Create model object and set up optimizer.\n",
    "- Run optimization.\n",
    "- Inference.\n",
    "- Generate results table and figures."
   ]
  },
  {
   "cell_type": "code",
   "execution_count": 92,
   "id": "a2e31a9a-0ee1-4f1e-b968-5bd454538cf6",
   "metadata": {},
   "outputs": [
    {
     "name": "stdout",
     "output_type": "stream",
     "text": [
      "(20, 4)\n",
      "(200, 20)\n"
     ]
    },
    {
     "data": {
      "text/html": [
       "<div>\n",
       "<style scoped>\n",
       "    .dataframe tbody tr th:only-of-type {\n",
       "        vertical-align: middle;\n",
       "    }\n",
       "\n",
       "    .dataframe tbody tr th {\n",
       "        vertical-align: top;\n",
       "    }\n",
       "\n",
       "    .dataframe thead th {\n",
       "        text-align: right;\n",
       "    }\n",
       "</style>\n",
       "<table border=\"1\" class=\"dataframe\">\n",
       "  <thead>\n",
       "    <tr style=\"text-align: right;\">\n",
       "      <th></th>\n",
       "      <th>sample</th>\n",
       "      <th>trt</th>\n",
       "      <th>lib_size</th>\n",
       "      <th>miRNA_reads</th>\n",
       "    </tr>\n",
       "  </thead>\n",
       "  <tbody>\n",
       "    <tr>\n",
       "      <th>0</th>\n",
       "      <td>Sample1</td>\n",
       "      <td>null</td>\n",
       "      <td>8.335426e+07</td>\n",
       "      <td>5379310</td>\n",
       "    </tr>\n",
       "    <tr>\n",
       "      <th>1</th>\n",
       "      <td>Sample2</td>\n",
       "      <td>null</td>\n",
       "      <td>5.417808e+07</td>\n",
       "      <td>840751</td>\n",
       "    </tr>\n",
       "    <tr>\n",
       "      <th>2</th>\n",
       "      <td>Sample3</td>\n",
       "      <td>null</td>\n",
       "      <td>8.679085e+06</td>\n",
       "      <td>1661151</td>\n",
       "    </tr>\n",
       "    <tr>\n",
       "      <th>3</th>\n",
       "      <td>Sample4</td>\n",
       "      <td>null</td>\n",
       "      <td>8.049912e+06</td>\n",
       "      <td>1924251</td>\n",
       "    </tr>\n",
       "    <tr>\n",
       "      <th>4</th>\n",
       "      <td>Sample5</td>\n",
       "      <td>null</td>\n",
       "      <td>2.781898e+07</td>\n",
       "      <td>1091507</td>\n",
       "    </tr>\n",
       "    <tr>\n",
       "      <th>5</th>\n",
       "      <td>Sample6</td>\n",
       "      <td>null</td>\n",
       "      <td>5.895722e+07</td>\n",
       "      <td>4657177</td>\n",
       "    </tr>\n",
       "    <tr>\n",
       "      <th>6</th>\n",
       "      <td>Sample7</td>\n",
       "      <td>null</td>\n",
       "      <td>8.115881e+07</td>\n",
       "      <td>10154361</td>\n",
       "    </tr>\n",
       "    <tr>\n",
       "      <th>7</th>\n",
       "      <td>Sample8</td>\n",
       "      <td>null</td>\n",
       "      <td>2.252620e+07</td>\n",
       "      <td>2820859</td>\n",
       "    </tr>\n",
       "    <tr>\n",
       "      <th>8</th>\n",
       "      <td>Sample9</td>\n",
       "      <td>null</td>\n",
       "      <td>3.594308e+06</td>\n",
       "      <td>1555465</td>\n",
       "    </tr>\n",
       "    <tr>\n",
       "      <th>9</th>\n",
       "      <td>Sample10</td>\n",
       "      <td>null</td>\n",
       "      <td>5.021435e+07</td>\n",
       "      <td>15256587</td>\n",
       "    </tr>\n",
       "    <tr>\n",
       "      <th>10</th>\n",
       "      <td>Sample11</td>\n",
       "      <td>alt</td>\n",
       "      <td>7.034203e+07</td>\n",
       "      <td>9170533</td>\n",
       "    </tr>\n",
       "    <tr>\n",
       "      <th>11</th>\n",
       "      <td>Sample12</td>\n",
       "      <td>alt</td>\n",
       "      <td>7.275132e+07</td>\n",
       "      <td>30484463</td>\n",
       "    </tr>\n",
       "    <tr>\n",
       "      <th>12</th>\n",
       "      <td>Sample13</td>\n",
       "      <td>alt</td>\n",
       "      <td>4.147777e+06</td>\n",
       "      <td>1137430</td>\n",
       "    </tr>\n",
       "    <tr>\n",
       "      <th>13</th>\n",
       "      <td>Sample14</td>\n",
       "      <td>alt</td>\n",
       "      <td>4.386503e+07</td>\n",
       "      <td>14787991</td>\n",
       "    </tr>\n",
       "    <tr>\n",
       "      <th>14</th>\n",
       "      <td>Sample15</td>\n",
       "      <td>alt</td>\n",
       "      <td>5.942810e+07</td>\n",
       "      <td>3503490</td>\n",
       "    </tr>\n",
       "    <tr>\n",
       "      <th>15</th>\n",
       "      <td>Sample16</td>\n",
       "      <td>alt</td>\n",
       "      <td>3.020369e+07</td>\n",
       "      <td>894422</td>\n",
       "    </tr>\n",
       "    <tr>\n",
       "      <th>16</th>\n",
       "      <td>Sample17</td>\n",
       "      <td>alt</td>\n",
       "      <td>4.657906e+07</td>\n",
       "      <td>1728128</td>\n",
       "    </tr>\n",
       "    <tr>\n",
       "      <th>17</th>\n",
       "      <td>Sample18</td>\n",
       "      <td>alt</td>\n",
       "      <td>5.113006e+07</td>\n",
       "      <td>7770890</td>\n",
       "    </tr>\n",
       "    <tr>\n",
       "      <th>18</th>\n",
       "      <td>Sample19</td>\n",
       "      <td>alt</td>\n",
       "      <td>5.591904e+06</td>\n",
       "      <td>2393878</td>\n",
       "    </tr>\n",
       "    <tr>\n",
       "      <th>19</th>\n",
       "      <td>Sample20</td>\n",
       "      <td>alt</td>\n",
       "      <td>4.474585e+06</td>\n",
       "      <td>1410267</td>\n",
       "    </tr>\n",
       "  </tbody>\n",
       "</table>\n",
       "</div>"
      ],
      "text/plain": [
       "      sample   trt      lib_size  miRNA_reads\n",
       "0    Sample1  null  8.335426e+07      5379310\n",
       "1    Sample2  null  5.417808e+07       840751\n",
       "2    Sample3  null  8.679085e+06      1661151\n",
       "3    Sample4  null  8.049912e+06      1924251\n",
       "4    Sample5  null  2.781898e+07      1091507\n",
       "5    Sample6  null  5.895722e+07      4657177\n",
       "6    Sample7  null  8.115881e+07     10154361\n",
       "7    Sample8  null  2.252620e+07      2820859\n",
       "8    Sample9  null  3.594308e+06      1555465\n",
       "9   Sample10  null  5.021435e+07     15256587\n",
       "10  Sample11   alt  7.034203e+07      9170533\n",
       "11  Sample12   alt  7.275132e+07     30484463\n",
       "12  Sample13   alt  4.147777e+06      1137430\n",
       "13  Sample14   alt  4.386503e+07     14787991\n",
       "14  Sample15   alt  5.942810e+07      3503490\n",
       "15  Sample16   alt  3.020369e+07       894422\n",
       "16  Sample17   alt  4.657906e+07      1728128\n",
       "17  Sample18   alt  5.113006e+07      7770890\n",
       "18  Sample19   alt  5.591904e+06      2393878\n",
       "19  Sample20   alt  4.474585e+06      1410267"
      ]
     },
     "execution_count": 92,
     "metadata": {},
     "output_type": "execute_result"
    }
   ],
   "source": [
    "data_path = Path(\"data/test/\")\n",
    "X = pd.read_csv(data_path / \"X.csv\", keep_default_na=False)\n",
    "Y = pd.read_csv(data_path / \"Y.csv\")\n",
    "print(X.shape)\n",
    "print(Y.shape)\n",
    "X"
   ]
  },
  {
   "cell_type": "markdown",
   "id": "9ac34bc4-789d-42fe-a7df-d0f19f3cf9eb",
   "metadata": {},
   "source": [
    "# Specifying the model\n",
    "\n",
    "- We will use `trt` column as the only covariate in the model.\n",
    "- In the basic model, we will use the shared dispersion parameter $\\phi_j$. To do that, we set `trended_dispersion=False`.\n",
    "- When the number of features in the analysis exceeds 1000, it would greatly speed up inference by using GPU: set `use_cuda_if_available=True`. For small number of features $< 500$, CPU computation is fast enough (in seconds) and in that case, moving the data to GPU might incur some time, which may not be worth it. In this example, we only have 200 features.\n"
   ]
  },
  {
   "cell_type": "code",
   "execution_count": 93,
   "id": "f96fc200-f968-4704-a2d3-6e809a2350f0",
   "metadata": {},
   "outputs": [
    {
     "data": {
      "text/plain": [
       "NBSRConfig(counts_path=PosixPath('data/test/Y.csv'), coldata_path=PosixPath('data/test/X.csv'), output_path=PosixPath('data/test/output'), column_names=['trt'], z_columns=None, lr=0.05, lam=1.0, shape=3.0, scale=2.0, iterations=5000, estimate_dispersion_sd=False, trended_dispersion=False, dispersion_path=None, dispersion_model_path=None, pivot=True, use_cuda_if_available=False)"
      ]
     },
     "execution_count": 93,
     "metadata": {},
     "output_type": "execute_result"
    }
   ],
   "source": [
    "input_path = Path(\"data/test/\")\n",
    "counts_path = input_path / \"Y.csv\"\n",
    "cols_path = input_path / \"X.csv\"\n",
    "output_path = Path(\"data/test/output\")\n",
    "x_columns = [\"trt\"] # list of column names on X to use in fitting NBSR.\n",
    "# z_columns = None\n",
    "iterations = 5000\n",
    "# these default values work fairly well in most settings.\n",
    "# lr = 0.05\n",
    "# lam = 1. \n",
    "# shape = 3.\n",
    "# scale = 2.\n",
    "\n",
    "config = NBSRConfig(counts_path, cols_path, output_path, x_columns, iterations=iterations, \n",
    "                    trended_dispersion=False, pivot=True, use_cuda_if_available=False)\n",
    "config"
   ]
  },
  {
   "cell_type": "code",
   "execution_count": 94,
   "id": "41fe499e-6126-4e03-b2db-9f8e803b3b85",
   "metadata": {
    "scrolled": true
   },
   "outputs": [
    {
     "name": "stdout",
     "output_type": "stream",
     "text": [
      "Column name trt exists? True\n",
      "Y:  torch.Size([20, 200])\n",
      "X:  torch.Size([20, 2])\n",
      "RNA count: 200\n",
      "Sample count: 20\n",
      "Covariate count: 2\n",
      "beta\n",
      "phi\n",
      "psi\n",
      "Iter: 0\n",
      "tensor(65473.667230045)\n",
      "Iter: 100\n",
      "tensor(34985.191207919)\n",
      "Iter: 200\n",
      "tensor(34018.338429599)\n",
      "Iter: 300\n",
      "tensor(33744.429025376)\n",
      "Iter: 400\n",
      "tensor(33609.880603272)\n",
      "Iter: 500\n",
      "tensor(33537.678718056)\n",
      "Iter: 600\n",
      "tensor(33477.803097912)\n",
      "Iter: 700\n",
      "tensor(33386.936654026)\n",
      "Iter: 800\n",
      "tensor(33330.037541486)\n",
      "Iter: 900\n",
      "tensor(33292.075963301)\n",
      "Iter: 1000\n",
      "tensor(33255.377129181)\n",
      "Iter: 1100\n",
      "tensor(33225.958379621)\n",
      "Iter: 1200\n",
      "tensor(33207.733608251)\n",
      "Iter: 1300\n",
      "tensor(33198.587943221)\n",
      "Iter: 1400\n",
      "tensor(33189.835897742)\n",
      "Iter: 1500\n",
      "tensor(33181.091389105)\n",
      "Iter: 1600\n",
      "tensor(33172.795359892)\n",
      "Iter: 1700\n",
      "tensor(33165.928844419)\n",
      "Iter: 1800\n",
      "tensor(33159.870737501)\n",
      "Iter: 1900\n",
      "tensor(33156.419812985)\n",
      "Iter: 2000\n",
      "tensor(33154.159106614)\n",
      "Iter: 2100\n",
      "tensor(33152.791534207)\n",
      "Iter: 2200\n",
      "tensor(33151.587267565)\n",
      "Iter: 2300\n",
      "tensor(33150.559004278)\n",
      "Iter: 2400\n",
      "tensor(33149.740624333)\n",
      "Iter: 2500\n",
      "tensor(33149.105806616)\n",
      "Iter: 2600\n",
      "tensor(33148.645425096)\n",
      "Iter: 2700\n",
      "tensor(33148.321986687)\n",
      "Iter: 2800\n",
      "tensor(33148.484197278)\n",
      "Iter: 2900\n",
      "tensor(33148.454262470)\n",
      "Iter: 3000\n",
      "tensor(33149.450042502)\n",
      "Iter: 3100\n",
      "tensor(33148.418348572)\n",
      "Iter: 3200\n",
      "tensor(33148.792219628)\n",
      "Iter: 3300\n",
      "tensor(33148.461465267)\n",
      "Iter: 3400\n",
      "tensor(33148.298596373)\n",
      "Iter: 3500\n",
      "tensor(33148.237482056)\n",
      "Iter: 3600\n",
      "tensor(33148.208160565)\n",
      "Iter: 3700\n",
      "tensor(33148.238871639)\n",
      "Iter: 3800\n",
      "tensor(33148.335949037)\n",
      "Iter: 3900\n",
      "tensor(33148.611513640)\n",
      "Iter: 4000\n",
      "tensor(33148.472622444)\n",
      "Iter: 4100\n",
      "tensor(33148.326413733)\n",
      "Iter: 4200\n",
      "tensor(33148.619060303)\n",
      "Iter: 4300\n",
      "tensor(33148.457935888)\n",
      "Iter: 4400\n",
      "tensor(33148.203947155)\n",
      "Iter: 4500\n",
      "tensor(33148.353209656)\n",
      "Iter: 4600\n",
      "tensor(33148.575907432)\n",
      "Iter: 4700\n",
      "tensor(33148.561351449)\n",
      "Iter: 4800\n",
      "tensor(33148.320022666)\n",
      "Iter: 4900\n",
      "tensor(33148.231623004)\n",
      "Training iterations completed.\n",
      "Compute observed Information matrix.\n",
      "Computing Hessian using torch...\n",
      "Hessian computation with numba = 2.5257336390204728s\n"
     ]
    }
   ],
   "source": [
    "# Run analysis! \n",
    "loss, model = run(config)\n"
   ]
  },
  {
   "cell_type": "code",
   "execution_count": 95,
   "id": "8e522134-a0ab-4a0b-9e67-43fe642a439c",
   "metadata": {},
   "outputs": [
    {
     "data": {
      "text/plain": [
       "[<matplotlib.lines.Line2D at 0x7f08c5761e20>]"
      ]
     },
     "execution_count": 95,
     "metadata": {},
     "output_type": "execute_result"
    },
    {
     "data": {
      "image/png": "[encoded data removed]",
      "text/plain": [
       "<Figure size 640x480 with 1 Axes>"
      ]
     },
     "metadata": {},
     "output_type": "display_data"
    }
   ],
   "source": [
    "# Plot the loss function.\n",
    "plt.plot(loss)"
   ]
  },
  {
   "cell_type": "code",
   "execution_count": 96,
   "id": "14c53724-ffc4-4459-9855-3fbef809a36e",
   "metadata": {},
   "outputs": [
    {
     "data": {
      "text/plain": [
       "True"
      ]
     },
     "execution_count": 96,
     "metadata": {},
     "output_type": "execute_result"
    }
   ],
   "source": [
    "# checkpoint file is created by run.\n",
    "checkpoint_filename = \"checkpoint.pth\"\n",
    "checkpoint_file = output_path / checkpoint_filename\n",
    "os.path.exists(checkpoint_file) # Check that the file exists."
   ]
  },
  {
   "cell_type": "markdown",
   "id": "9141bf94-2363-47ca-90dc-2db2b4d26340",
   "metadata": {},
   "source": [
    "# Generate results table\n",
    "\n",
    "- Typically, when comparing two populations treatment vs control, we want to compare their absolute fold changes. Set `absolute_fc=True`.\n",
    "- We typically do not need to recompute Hessian as it is computed by `run` function. Set `recompute_hessian=False`.\n",
    "- Specify the path where the model results are saved and the variable to compare, in this case `trt` and we are comparing `alt` to `null`."
   ]
  },
  {
   "cell_type": "code",
   "execution_count": 97,
   "id": "a9b0519d-212e-4a3e-a2b6-a29ec34cff57",
   "metadata": {},
   "outputs": [
    {
     "name": "stdout",
     "output_type": "stream",
     "text": [
      "Column name trt exists? True\n",
      "Y:  torch.Size([20, 200])\n",
      "X:  torch.Size([20, 2])\n",
      "RNA count: 200\n",
      "Sample count: 20\n",
      "Covariate count: 2\n",
      "beta\n",
      "phi\n",
      "psi\n",
      "Loading previously saved model...\n",
      "Found covariate trt in the model.\n"
     ]
    }
   ],
   "source": [
    "# Generate the results table\n",
    "res = generate_results(output_path, \"trt\", \"alt\", \"null\", absolute_fc=True, recompute_hessian=False)\n"
   ]
  },
  {
   "cell_type": "code",
   "execution_count": 98,
   "id": "2625c5d7-9452-4c4d-b3aa-2166ae782510",
   "metadata": {},
   "outputs": [
    {
     "data": {
      "text/html": [
       "<div>\n",
       "<style scoped>\n",
       "    .dataframe tbody tr th:only-of-type {\n",
       "        vertical-align: middle;\n",
       "    }\n",
       "\n",
       "    .dataframe tbody tr th {\n",
       "        vertical-align: top;\n",
       "    }\n",
       "\n",
       "    .dataframe thead th {\n",
       "        text-align: right;\n",
       "    }\n",
       "</style>\n",
       "<table border=\"1\" class=\"dataframe\">\n",
       "  <thead>\n",
       "    <tr style=\"text-align: right;\">\n",
       "      <th></th>\n",
       "      <th>feature</th>\n",
       "      <th>log2FC</th>\n",
       "      <th>pvalue</th>\n",
       "      <th>padj</th>\n",
       "    </tr>\n",
       "  </thead>\n",
       "  <tbody>\n",
       "    <tr>\n",
       "      <th>0</th>\n",
       "      <td>hsa-miR-26a-5p</td>\n",
       "      <td>0.030462</td>\n",
       "      <td>0.964264</td>\n",
       "      <td>0.988717</td>\n",
       "    </tr>\n",
       "    <tr>\n",
       "      <th>1</th>\n",
       "      <td>hsa-miR-142-5p</td>\n",
       "      <td>9.572633</td>\n",
       "      <td>0.000000</td>\n",
       "      <td>0.000000</td>\n",
       "    </tr>\n",
       "    <tr>\n",
       "      <th>2</th>\n",
       "      <td>hsa-miR-150-5p</td>\n",
       "      <td>-0.027358</td>\n",
       "      <td>0.891279</td>\n",
       "      <td>0.988717</td>\n",
       "    </tr>\n",
       "    <tr>\n",
       "      <th>3</th>\n",
       "      <td>hsa-miR-92a-3p</td>\n",
       "      <td>-0.018662</td>\n",
       "      <td>0.927693</td>\n",
       "      <td>0.988717</td>\n",
       "    </tr>\n",
       "    <tr>\n",
       "      <th>4</th>\n",
       "      <td>hsa-miR-181a-5p</td>\n",
       "      <td>0.055649</td>\n",
       "      <td>0.943555</td>\n",
       "      <td>0.988717</td>\n",
       "    </tr>\n",
       "  </tbody>\n",
       "</table>\n",
       "</div>"
      ],
      "text/plain": [
       "           feature    log2FC    pvalue      padj\n",
       "0   hsa-miR-26a-5p  0.030462  0.964264  0.988717\n",
       "1   hsa-miR-142-5p  9.572633  0.000000  0.000000\n",
       "2   hsa-miR-150-5p -0.027358  0.891279  0.988717\n",
       "3   hsa-miR-92a-3p -0.018662  0.927693  0.988717\n",
       "4  hsa-miR-181a-5p  0.055649  0.943555  0.988717"
      ]
     },
     "execution_count": 98,
     "metadata": {},
     "output_type": "execute_result"
    }
   ],
   "source": [
    "res.head()"
   ]
  },
  {
   "cell_type": "code",
   "execution_count": 104,
   "id": "1723ee1d-8c02-4ba4-80c5-a2778cdbe26b",
   "metadata": {},
   "outputs": [],
   "source": [
    "# Retrieve dispersion phi:\n",
    "phi = model.softplus(model.phi).detach()\n"
   ]
  },
  {
   "cell_type": "code",
   "execution_count": 106,
   "id": "3878352e-a960-4c4d-9ca4-852a6ffee803",
   "metadata": {},
   "outputs": [
    {
     "data": {
      "text/plain": [
       "<matplotlib.collections.PathCollection at 0x7f08c55ccce0>"
      ]
     },
     "execution_count": 106,
     "metadata": {},
     "output_type": "execute_result"
    },
    {
     "data": {
      "image/png": "[encoded data removed]",
      "text/plain": [
       "<Figure size 640x480 with 1 Axes>"
      ]
     },
     "metadata": {},
     "output_type": "display_data"
    }
   ],
   "source": [
    "# Generate a plot of \\sum_j log(pi_{ij}) vs phi_j:\n",
    "pi, _ = model.predict(model.beta, model.X)\n",
    "pi = pi.detach()\n",
    "\n",
    "plt.scatter(torch.log(pi.mean(0)), phi)"
   ]
  },
  {
   "cell_type": "markdown",
   "id": "43a36129-54e0-46c2-a425-c015bcb2f4c8",
   "metadata": {},
   "source": [
    "# Trended mean dispersion\n",
    "\n",
    "We will run analysis on the same dataset using the trended dispersion where the dispersion parameters $\\phi_{ij}$ are regulated by Log Normal distribution.\n",
    "\n",
    "To that end, we will set `trended_dispersion=True` and `estimate_dispersion_sd=True` for mean and `estimate_dispersion_sd=False` for median estimator.\n",
    "\n",
    "Currently, the dispersion model only includes $\\log \\pi_{ij}$ and $\\log s_i$ as the covariates, where $s_i$ denotes the library size."
   ]
  },
  {
   "cell_type": "code",
   "execution_count": 107,
   "id": "c632d401-d47b-40c5-b01d-39b30d5cbe7d",
   "metadata": {},
   "outputs": [
    {
     "data": {
      "text/plain": [
       "NBSRConfig(counts_path=PosixPath('data/test/Y.csv'), coldata_path=PosixPath('data/test/X.csv'), output_path=PosixPath('data/test/output_trended_mean'), column_names=['trt'], z_columns=None, lr=0.05, lam=1.0, shape=3.0, scale=2.0, iterations=5000, estimate_dispersion_sd=True, trended_dispersion=True, dispersion_path=None, dispersion_model_path=None, pivot=True, use_cuda_if_available=False)"
      ]
     },
     "execution_count": 107,
     "metadata": {},
     "output_type": "execute_result"
    }
   ],
   "source": [
    "input_path = Path(\"data/test/\")\n",
    "counts_path = input_path / \"Y.csv\"\n",
    "cols_path = input_path / \"X.csv\"\n",
    "output_path = Path(\"data/test/output_trended_mean\")\n",
    "x_columns = [\"trt\"] # list of column names on X to use in fitting NBSR.\n",
    "# z_columns = None\n",
    "iterations = 5000\n",
    "# these default values work fairly well in most settings.\n",
    "# lr = 0.05\n",
    "# lam = 1. \n",
    "# shape = 3.\n",
    "# scale = 2.\n",
    "\n",
    "config = NBSRConfig(counts_path, cols_path, output_path, x_columns, iterations=iterations, \n",
    "                    estimate_dispersion_sd=True, trended_dispersion=True, pivot=True, use_cuda_if_available=False)\n",
    "config"
   ]
  },
  {
   "cell_type": "code",
   "execution_count": 108,
   "id": "4daccee5-0d59-4771-9c9f-07bc35523cf4",
   "metadata": {
    "scrolled": true
   },
   "outputs": [
    {
     "name": "stdout",
     "output_type": "stream",
     "text": [
      "Column name trt exists? True\n",
      "Y:  torch.Size([20, 200])\n",
      "X:  torch.Size([20, 2])\n",
      "Dispersion trend will be estimated.\n",
      "RNA count: 200\n",
      "Sample count: 20\n",
      "Covariate count: 2\n",
      "beta\n",
      "psi\n",
      "disp_model.b0\n",
      "disp_model.b1\n",
      "disp_model.b2\n",
      "disp_model.kappa\n",
      "Iter: 0\n",
      "tensor(45386.939071764)\n",
      "Iter: 100\n",
      "tensor(34543.691115942)\n",
      "Iter: 200\n",
      "tensor(33348.779180321)\n",
      "Iter: 300\n",
      "tensor(32992.565007102)\n",
      "Iter: 400\n",
      "tensor(32870.720851467)\n",
      "Iter: 500\n",
      "tensor(32771.198149436)\n",
      "Iter: 600\n",
      "tensor(32720.785101092)\n",
      "Iter: 700\n",
      "tensor(32685.251362974)\n",
      "Iter: 800\n",
      "tensor(32649.011936271)\n",
      "Iter: 900\n",
      "tensor(32547.127627720)\n",
      "Iter: 1000\n",
      "tensor(32510.516214706)\n",
      "Iter: 1100\n",
      "tensor(32495.727007469)\n",
      "Iter: 1200\n",
      "tensor(32484.603603361)\n",
      "Iter: 1300\n",
      "tensor(32475.967168846)\n",
      "Iter: 1400\n",
      "tensor(32470.067681729)\n",
      "Iter: 1500\n",
      "tensor(32465.699196831)\n",
      "Iter: 1600\n",
      "tensor(32462.358956179)\n",
      "Iter: 1700\n",
      "tensor(32460.184426721)\n",
      "Iter: 1800\n",
      "tensor(32458.404970225)\n",
      "Iter: 1900\n",
      "tensor(32457.909397210)\n",
      "Iter: 2000\n",
      "tensor(32456.644119245)\n",
      "Iter: 2100\n",
      "tensor(32455.516181372)\n",
      "Iter: 2200\n",
      "tensor(32455.216069778)\n",
      "Iter: 2300\n",
      "tensor(32456.601052530)\n",
      "Iter: 2400\n",
      "tensor(32454.469374095)\n",
      "Iter: 2500\n",
      "tensor(32454.370792797)\n",
      "Iter: 2600\n",
      "tensor(32454.418648018)\n",
      "Iter: 2700\n",
      "tensor(32454.295523071)\n",
      "Iter: 2800\n",
      "tensor(32454.238576466)\n",
      "Iter: 2900\n",
      "tensor(32454.202937160)\n",
      "Iter: 3000\n",
      "tensor(32454.128899709)\n",
      "Iter: 3100\n",
      "tensor(32453.960846145)\n",
      "Iter: 3200\n",
      "tensor(32454.066778559)\n",
      "Iter: 3300\n",
      "tensor(32454.184668894)\n",
      "Iter: 3400\n",
      "tensor(32456.368889288)\n",
      "Iter: 3500\n",
      "tensor(32459.228548160)\n",
      "Iter: 3600\n",
      "tensor(32453.942983406)\n",
      "Iter: 3700\n",
      "tensor(32453.910248086)\n",
      "Iter: 3800\n",
      "tensor(32454.053223635)\n",
      "Iter: 3900\n",
      "tensor(32454.214766674)\n",
      "Iter: 4000\n",
      "tensor(32453.916562199)\n",
      "Iter: 4100\n",
      "tensor(32454.081694129)\n",
      "Iter: 4200\n",
      "tensor(32458.509672734)\n",
      "Iter: 4300\n",
      "tensor(32454.317134007)\n",
      "Iter: 4400\n",
      "tensor(32453.994308199)\n",
      "Iter: 4500\n",
      "tensor(32454.201712510)\n",
      "Iter: 4600\n",
      "tensor(32458.688858726)\n",
      "Iter: 4700\n",
      "tensor(32454.037568138)\n",
      "Iter: 4800\n",
      "tensor(32461.495185799)\n",
      "Iter: 4900\n",
      "tensor(32454.464411187)\n",
      "Training iterations completed.\n",
      "Compute observed Information matrix.\n",
      "Computing Hessian using torch...\n",
      "Hessian computation with numba = 6.681090275757015s\n"
     ]
    }
   ],
   "source": [
    "# Run analysis! \n",
    "loss, model = run(config)\n"
   ]
  },
  {
   "cell_type": "code",
   "execution_count": 109,
   "id": "3cd3afde-4653-494b-9946-d27130736278",
   "metadata": {},
   "outputs": [
    {
     "data": {
      "text/plain": [
       "[<matplotlib.lines.Line2D at 0x7f08bb1316a0>]"
      ]
     },
     "execution_count": 109,
     "metadata": {},
     "output_type": "execute_result"
    },
    {
     "data": {
      "image/png": "[encoded data removed]",
      "text/plain": [
       "<Figure size 640x480 with 1 Axes>"
      ]
     },
     "metadata": {},
     "output_type": "display_data"
    }
   ],
   "source": [
    "# Plot the loss function.\n",
    "plt.plot(loss)\n"
   ]
  },
  {
   "cell_type": "code",
   "execution_count": 110,
   "id": "6dca4154-52d8-4db0-a751-c1871dd45a6e",
   "metadata": {},
   "outputs": [
    {
     "name": "stdout",
     "output_type": "stream",
     "text": [
      "Column name trt exists? True\n",
      "Y:  torch.Size([20, 200])\n",
      "X:  torch.Size([20, 2])\n",
      "Dispersion trend will be estimated.\n",
      "RNA count: 200\n",
      "Sample count: 20\n",
      "Covariate count: 2\n",
      "beta\n",
      "psi\n",
      "disp_model.b0\n",
      "disp_model.b1\n",
      "disp_model.b2\n",
      "disp_model.kappa\n",
      "Loading previously saved model...\n",
      "Found covariate trt in the model.\n"
     ]
    }
   ],
   "source": [
    "# Generate the results table\n",
    "res2 = generate_results(output_path, \"trt\", \"alt\", \"null\", absolute_fc=True, recompute_hessian=False)\n"
   ]
  },
  {
   "cell_type": "code",
   "execution_count": 111,
   "id": "97fde067-91f9-4faf-bc75-9eee4fa1f015",
   "metadata": {},
   "outputs": [
    {
     "data": {
      "text/html": [
       "<div>\n",
       "<style scoped>\n",
       "    .dataframe tbody tr th:only-of-type {\n",
       "        vertical-align: middle;\n",
       "    }\n",
       "\n",
       "    .dataframe tbody tr th {\n",
       "        vertical-align: top;\n",
       "    }\n",
       "\n",
       "    .dataframe thead th {\n",
       "        text-align: right;\n",
       "    }\n",
       "</style>\n",
       "<table border=\"1\" class=\"dataframe\">\n",
       "  <thead>\n",
       "    <tr style=\"text-align: right;\">\n",
       "      <th></th>\n",
       "      <th>feature</th>\n",
       "      <th>log2FC</th>\n",
       "      <th>pvalue</th>\n",
       "      <th>padj</th>\n",
       "    </tr>\n",
       "  </thead>\n",
       "  <tbody>\n",
       "    <tr>\n",
       "      <th>0</th>\n",
       "      <td>hsa-miR-26a-5p</td>\n",
       "      <td>0.032301</td>\n",
       "      <td>0.988532</td>\n",
       "      <td>0.997349</td>\n",
       "    </tr>\n",
       "    <tr>\n",
       "      <th>1</th>\n",
       "      <td>hsa-miR-142-5p</td>\n",
       "      <td>9.767573</td>\n",
       "      <td>0.000000</td>\n",
       "      <td>0.000000</td>\n",
       "    </tr>\n",
       "    <tr>\n",
       "      <th>2</th>\n",
       "      <td>hsa-miR-150-5p</td>\n",
       "      <td>-0.029243</td>\n",
       "      <td>0.587519</td>\n",
       "      <td>0.851476</td>\n",
       "    </tr>\n",
       "    <tr>\n",
       "      <th>3</th>\n",
       "      <td>hsa-miR-92a-3p</td>\n",
       "      <td>-0.020328</td>\n",
       "      <td>0.639938</td>\n",
       "      <td>0.865651</td>\n",
       "    </tr>\n",
       "    <tr>\n",
       "      <th>4</th>\n",
       "      <td>hsa-miR-181a-5p</td>\n",
       "      <td>0.054731</td>\n",
       "      <td>0.968461</td>\n",
       "      <td>0.988225</td>\n",
       "    </tr>\n",
       "  </tbody>\n",
       "</table>\n",
       "</div>"
      ],
      "text/plain": [
       "           feature    log2FC    pvalue      padj\n",
       "0   hsa-miR-26a-5p  0.032301  0.988532  0.997349\n",
       "1   hsa-miR-142-5p  9.767573  0.000000  0.000000\n",
       "2   hsa-miR-150-5p -0.029243  0.587519  0.851476\n",
       "3   hsa-miR-92a-3p -0.020328  0.639938  0.865651\n",
       "4  hsa-miR-181a-5p  0.054731  0.968461  0.988225"
      ]
     },
     "execution_count": 111,
     "metadata": {},
     "output_type": "execute_result"
    }
   ],
   "source": [
    "res2.head()"
   ]
  },
  {
   "cell_type": "markdown",
   "id": "01a0d6be-a56d-446d-8058-08156e9900e2",
   "metadata": {},
   "source": [
    "\n",
    "- The dispersion can be retrieves by first obtaining $\\pi_{ij}$ for each sample, and then pushing it forward on `model.disp_model`."
   ]
  },
  {
   "cell_type": "code",
   "execution_count": 113,
   "id": "035d6132-6ee3-496f-98ae-7975fdf24f8f",
   "metadata": {},
   "outputs": [
    {
     "data": {
      "text/plain": [
       "torch.Size([20, 200])"
      ]
     },
     "execution_count": 113,
     "metadata": {},
     "output_type": "execute_result"
    }
   ],
   "source": [
    "pi,_ = model.predict(model.beta, model.X)\n",
    "pi = pi.detach()\n",
    "phi_trended_mean = torch.exp(model.disp_model.forward(pi)).detach()\n",
    "phi.shape"
   ]
  },
  {
   "cell_type": "code",
   "execution_count": 114,
   "id": "7cf5d843-46be-4685-a400-3004100f9b58",
   "metadata": {},
   "outputs": [
    {
     "data": {
      "text/plain": [
       "<matplotlib.collections.PathCollection at 0x7f08bb2313a0>"
      ]
     },
     "execution_count": 114,
     "metadata": {},
     "output_type": "execute_result"
    },
    {
     "data": {
      "image/png": "[encoded data removed]",
      "text/plain": [
       "<Figure size 640x480 with 1 Axes>"
      ]
     },
     "metadata": {},
     "output_type": "display_data"
    }
   ],
   "source": [
    "plt.scatter(phi_trended_mean[0,:], phi_trended_mean[1,:]) # Dispersion for samples in the same treatment group differ only in the library size s_i."
   ]
  },
  {
   "cell_type": "code",
   "execution_count": 76,
   "id": "52b4cbf4-a140-4ee0-b88b-eb88e32f3210",
   "metadata": {},
   "outputs": [],
   "source": [
    "# Dispersion estimates for samples from different groups.\n",
    "sample_idx1 = np.where(X[\"trt\"] == \"null\")[0][0]\n",
    "sample_idx2 = np.where(X[\"trt\"] == \"alt\")[0][0]"
   ]
  },
  {
   "cell_type": "code",
   "execution_count": 115,
   "id": "333f016b-9c41-42dd-98c3-53d813d62470",
   "metadata": {},
   "outputs": [
    {
     "data": {
      "text/plain": [
       "<matplotlib.collections.PathCollection at 0x7f08bb197aa0>"
      ]
     },
     "execution_count": 115,
     "metadata": {},
     "output_type": "execute_result"
    },
    {
     "data": {
      "image/png": "[encoded data removed]",
      "text/plain": [
       "<Figure size 640x480 with 1 Axes>"
      ]
     },
     "metadata": {},
     "output_type": "display_data"
    }
   ],
   "source": [
    "plt.scatter(phi_trended_mean[sample_idx1,:], phi_trended_mean[sample_idx2,:]) "
   ]
  },
  {
   "cell_type": "code",
   "execution_count": 116,
   "id": "304395f5-919a-4bd7-9994-278eafc17979",
   "metadata": {},
   "outputs": [
    {
     "data": {
      "text/plain": [
       "<matplotlib.collections.PathCollection at 0x7f08bb1955b0>"
      ]
     },
     "execution_count": 116,
     "metadata": {},
     "output_type": "execute_result"
    },
    {
     "data": {
      "image/png": "[encoded data removed]",
      "text/plain": [
       "<Figure size 640x480 with 1 Axes>"
      ]
     },
     "metadata": {},
     "output_type": "display_data"
    }
   ],
   "source": [
    "plt.scatter(torch.log(pi[sample_idx1,:]), phi_trended_mean[sample_idx1,:])\n"
   ]
  },
  {
   "cell_type": "code",
   "execution_count": 117,
   "id": "9e923c3a-6294-46be-8fdb-b8c9997c5a08",
   "metadata": {},
   "outputs": [
    {
     "data": {
      "text/plain": [
       "<matplotlib.collections.PathCollection at 0x7f08bb163fe0>"
      ]
     },
     "execution_count": 117,
     "metadata": {},
     "output_type": "execute_result"
    },
    {
     "data": {
      "image/png": "[encoded data removed]",
      "text/plain": [
       "<Figure size 640x480 with 1 Axes>"
      ]
     },
     "metadata": {},
     "output_type": "display_data"
    }
   ],
   "source": [
    "plt.scatter(torch.log(pi[sample_idx2,:]), phi_trended_mean[sample_idx2,:])"
   ]
  },
  {
   "cell_type": "markdown",
   "id": "cf5a18d1-0efd-4256-859f-084e213c89a6",
   "metadata": {},
   "source": [
    "## Trended median dispersion\n",
    "\n",
    "Somewhat more conservative approach to dispersion estimation is to use median of the trend line.\n",
    "\n",
    "To do so, we set `estimate_dispersion_sd=False`."
   ]
  },
  {
   "cell_type": "code",
   "execution_count": 118,
   "id": "7d070757-a44b-4fbb-8252-711fa635a6eb",
   "metadata": {},
   "outputs": [
    {
     "data": {
      "text/plain": [
       "NBSRConfig(counts_path=PosixPath('data/test/Y.csv'), coldata_path=PosixPath('data/test/X.csv'), output_path=PosixPath('data/test/output_trended_median'), column_names=['trt'], z_columns=None, lr=0.05, lam=1.0, shape=3.0, scale=2.0, iterations=5000, estimate_dispersion_sd=False, trended_dispersion=True, dispersion_path=None, dispersion_model_path=None, pivot=True, use_cuda_if_available=False)"
      ]
     },
     "execution_count": 118,
     "metadata": {},
     "output_type": "execute_result"
    }
   ],
   "source": [
    "input_path = Path(\"data/test/\")\n",
    "counts_path = input_path / \"Y.csv\"\n",
    "cols_path = input_path / \"X.csv\"\n",
    "output_path = Path(\"data/test/output_trended_median\")\n",
    "x_columns = [\"trt\"] # list of column names on X to use in fitting NBSR.\n",
    "# z_columns = None\n",
    "iterations = 5000\n",
    "# these default values work fairly well in most settings.\n",
    "# lr = 0.05\n",
    "# lam = 1. \n",
    "# shape = 3.\n",
    "# scale = 2.\n",
    "\n",
    "config = NBSRConfig(counts_path, cols_path, output_path, x_columns, iterations=iterations, \n",
    "                    estimate_dispersion_sd=False, trended_dispersion=True, pivot=True, use_cuda_if_available=False)\n",
    "config"
   ]
  },
  {
   "cell_type": "code",
   "execution_count": 119,
   "id": "75f724ed-0701-4930-a43d-e36cd1e7b09a",
   "metadata": {
    "scrolled": true
   },
   "outputs": [
    {
     "name": "stdout",
     "output_type": "stream",
     "text": [
      "Column name trt exists? True\n",
      "Y:  torch.Size([20, 200])\n",
      "X:  torch.Size([20, 2])\n",
      "Dispersion trend will be estimated.\n",
      "RNA count: 200\n",
      "Sample count: 20\n",
      "Covariate count: 2\n",
      "beta\n",
      "psi\n",
      "disp_model.b0\n",
      "disp_model.b1\n",
      "disp_model.b2\n",
      "Iter: 0\n",
      "tensor(43349.717035584)\n",
      "Iter: 100\n",
      "tensor(35388.603148181)\n",
      "Iter: 200\n",
      "tensor(33776.262829184)\n",
      "Iter: 300\n",
      "tensor(32842.263614953)\n",
      "Iter: 400\n",
      "tensor(32763.977379971)\n",
      "Iter: 500\n",
      "tensor(32725.586718921)\n",
      "Iter: 600\n",
      "tensor(32693.510556061)\n",
      "Iter: 700\n",
      "tensor(32665.517771843)\n",
      "Iter: 800\n",
      "tensor(32641.629708375)\n",
      "Iter: 900\n",
      "tensor(32621.939654293)\n",
      "Iter: 1000\n",
      "tensor(32606.189759326)\n",
      "Iter: 1100\n",
      "tensor(32594.081982400)\n",
      "Iter: 1200\n",
      "tensor(32585.023347709)\n",
      "Iter: 1300\n",
      "tensor(32578.906077745)\n",
      "Iter: 1400\n",
      "tensor(32573.921419004)\n",
      "Iter: 1500\n",
      "tensor(32570.723871752)\n",
      "Iter: 1600\n",
      "tensor(32569.097333858)\n",
      "Iter: 1700\n",
      "tensor(32567.364802705)\n",
      "Iter: 1800\n",
      "tensor(32566.636932267)\n",
      "Iter: 1900\n",
      "tensor(32566.119598488)\n",
      "Iter: 2000\n",
      "tensor(32566.013702986)\n",
      "Iter: 2100\n",
      "tensor(32565.852121260)\n",
      "Iter: 2200\n",
      "tensor(32565.690588839)\n",
      "Iter: 2300\n",
      "tensor(32565.612505862)\n",
      "Iter: 2400\n",
      "tensor(32565.736252742)\n",
      "Iter: 2500\n",
      "tensor(32565.648763467)\n",
      "Iter: 2600\n",
      "tensor(32565.691271997)\n",
      "Iter: 2700\n",
      "tensor(32565.551577987)\n",
      "Iter: 2800\n",
      "tensor(32565.746274906)\n",
      "Iter: 2900\n",
      "tensor(32565.714268892)\n",
      "Iter: 3000\n",
      "tensor(32566.460300228)\n",
      "Iter: 3100\n",
      "tensor(32565.625859966)\n",
      "Iter: 3200\n",
      "tensor(32565.588424260)\n",
      "Iter: 3300\n",
      "tensor(32565.688951578)\n",
      "Iter: 3400\n",
      "tensor(32565.552942649)\n",
      "Iter: 3500\n",
      "tensor(32566.587284453)\n",
      "Iter: 3600\n",
      "tensor(32565.536293498)\n",
      "Iter: 3700\n",
      "tensor(32565.612938401)\n",
      "Iter: 3800\n",
      "tensor(32565.645889269)\n",
      "Iter: 3900\n",
      "tensor(32565.583326061)\n",
      "Iter: 4000\n",
      "tensor(32565.546431983)\n",
      "Iter: 4100\n",
      "tensor(32565.549858854)\n",
      "Iter: 4200\n",
      "tensor(32567.832061637)\n",
      "Iter: 4300\n",
      "tensor(32569.667722360)\n",
      "Iter: 4400\n",
      "tensor(32565.799591153)\n",
      "Iter: 4500\n",
      "tensor(32565.525916861)\n",
      "Iter: 4600\n",
      "tensor(32565.552673894)\n",
      "Iter: 4700\n",
      "tensor(32566.756569479)\n",
      "Iter: 4800\n",
      "tensor(32571.984719692)\n",
      "Iter: 4900\n",
      "tensor(32565.580160813)\n",
      "Training iterations completed.\n",
      "Compute observed Information matrix.\n",
      "Computing Hessian using torch...\n",
      "Hessian computation with numba = 6.736000186763704s\n"
     ]
    }
   ],
   "source": [
    "# Run analysis! \n",
    "loss, model = run(config)\n"
   ]
  },
  {
   "cell_type": "code",
   "execution_count": 120,
   "id": "3fd9eb8b-f2ee-49a1-b202-b53f4e0ae7d0",
   "metadata": {},
   "outputs": [
    {
     "name": "stdout",
     "output_type": "stream",
     "text": [
      "Column name trt exists? True\n",
      "Y:  torch.Size([20, 200])\n",
      "X:  torch.Size([20, 2])\n",
      "Dispersion trend will be estimated.\n",
      "RNA count: 200\n",
      "Sample count: 20\n",
      "Covariate count: 2\n",
      "beta\n",
      "psi\n",
      "disp_model.b0\n",
      "disp_model.b1\n",
      "disp_model.b2\n",
      "Loading previously saved model...\n",
      "Found covariate trt in the model.\n"
     ]
    }
   ],
   "source": [
    "# Generate the results table\n",
    "res3 = generate_results(output_path, \"trt\", \"alt\", \"null\", absolute_fc=True, recompute_hessian=False)\n"
   ]
  },
  {
   "cell_type": "code",
   "execution_count": 121,
   "id": "c4284f07-a09f-4770-89bc-98e51cdf2427",
   "metadata": {},
   "outputs": [
    {
     "data": {
      "text/html": [
       "<div>\n",
       "<style scoped>\n",
       "    .dataframe tbody tr th:only-of-type {\n",
       "        vertical-align: middle;\n",
       "    }\n",
       "\n",
       "    .dataframe tbody tr th {\n",
       "        vertical-align: top;\n",
       "    }\n",
       "\n",
       "    .dataframe thead th {\n",
       "        text-align: right;\n",
       "    }\n",
       "</style>\n",
       "<table border=\"1\" class=\"dataframe\">\n",
       "  <thead>\n",
       "    <tr style=\"text-align: right;\">\n",
       "      <th></th>\n",
       "      <th>feature</th>\n",
       "      <th>log2FC</th>\n",
       "      <th>pvalue</th>\n",
       "      <th>padj</th>\n",
       "    </tr>\n",
       "  </thead>\n",
       "  <tbody>\n",
       "    <tr>\n",
       "      <th>0</th>\n",
       "      <td>hsa-miR-26a-5p</td>\n",
       "      <td>0.032119</td>\n",
       "      <td>0.983041</td>\n",
       "      <td>0.992971</td>\n",
       "    </tr>\n",
       "    <tr>\n",
       "      <th>1</th>\n",
       "      <td>hsa-miR-142-5p</td>\n",
       "      <td>10.361328</td>\n",
       "      <td>0.000000</td>\n",
       "      <td>0.000000</td>\n",
       "    </tr>\n",
       "    <tr>\n",
       "      <th>2</th>\n",
       "      <td>hsa-miR-150-5p</td>\n",
       "      <td>-0.027933</td>\n",
       "      <td>0.569901</td>\n",
       "      <td>0.838090</td>\n",
       "    </tr>\n",
       "    <tr>\n",
       "      <th>3</th>\n",
       "      <td>hsa-miR-92a-3p</td>\n",
       "      <td>-0.020051</td>\n",
       "      <td>0.638426</td>\n",
       "      <td>0.866380</td>\n",
       "    </tr>\n",
       "    <tr>\n",
       "      <th>4</th>\n",
       "      <td>hsa-miR-181a-5p</td>\n",
       "      <td>0.055041</td>\n",
       "      <td>0.971984</td>\n",
       "      <td>0.986786</td>\n",
       "    </tr>\n",
       "  </tbody>\n",
       "</table>\n",
       "</div>"
      ],
      "text/plain": [
       "           feature     log2FC    pvalue      padj\n",
       "0   hsa-miR-26a-5p   0.032119  0.983041  0.992971\n",
       "1   hsa-miR-142-5p  10.361328  0.000000  0.000000\n",
       "2   hsa-miR-150-5p  -0.027933  0.569901  0.838090\n",
       "3   hsa-miR-92a-3p  -0.020051  0.638426  0.866380\n",
       "4  hsa-miR-181a-5p   0.055041  0.971984  0.986786"
      ]
     },
     "execution_count": 121,
     "metadata": {},
     "output_type": "execute_result"
    }
   ],
   "source": [
    "res3.head()"
   ]
  },
  {
   "cell_type": "code",
   "execution_count": 122,
   "id": "3851554a-fc06-4485-a266-2fbe65190114",
   "metadata": {},
   "outputs": [
    {
     "data": {
      "text/plain": [
       "torch.Size([20, 200])"
      ]
     },
     "execution_count": 122,
     "metadata": {},
     "output_type": "execute_result"
    }
   ],
   "source": [
    "pi,_ = model.predict(model.beta, model.X)\n",
    "pi = pi.detach()\n",
    "phi_trended_median = torch.exp(model.disp_model.forward(pi)).detach()\n",
    "phi_trended_median.shape"
   ]
  },
  {
   "cell_type": "code",
   "execution_count": 123,
   "id": "8daac85a-02a9-4c4c-ba7c-fc2e45ba6ef4",
   "metadata": {},
   "outputs": [
    {
     "data": {
      "text/plain": [
       "<matplotlib.collections.PathCollection at 0x7f08c57950a0>"
      ]
     },
     "execution_count": 123,
     "metadata": {},
     "output_type": "execute_result"
    },
    {
     "data": {
      "image/png": "[encoded data removed]",
      "text/plain": [
       "<Figure size 640x480 with 1 Axes>"
      ]
     },
     "metadata": {},
     "output_type": "display_data"
    }
   ],
   "source": [
    "# Compare trended mean vs median\n",
    "plt.scatter(phi_trended_median[sample_idx1,:], phi_trended_mean[sample_idx1,:])"
   ]
  },
  {
   "cell_type": "code",
   "execution_count": 124,
   "id": "5658fb4b-46c2-41f4-96aa-16f96c1154d5",
   "metadata": {},
   "outputs": [
    {
     "data": {
      "text/plain": [
       "<matplotlib.collections.PathCollection at 0x7f08bb2771d0>"
      ]
     },
     "execution_count": 124,
     "metadata": {},
     "output_type": "execute_result"
    },
    {
     "data": {
      "image/png": "[encoded data removed]",
      "text/plain": [
       "<Figure size 640x480 with 1 Axes>"
      ]
     },
     "metadata": {},
     "output_type": "display_data"
    }
   ],
   "source": [
    "plt.scatter(phi_trended_median[sample_idx2,:], phi_trended_mean[sample_idx2,:])"
   ]
  },
  {
   "cell_type": "code",
   "execution_count": null,
   "id": "34a79dcd-518d-4a78-8ebb-1bc78f54122d",
   "metadata": {},
   "outputs": [],
   "source": []
  }
 ],
 "metadata": {
  "kernelspec": {
   "display_name": "Python 3 (ipykernel)",
   "language": "python",
   "name": "python3"
  },
  "language_info": {
   "codemirror_mode": {
    "name": "ipython",
    "version": 3
   },
   "file_extension": ".py",
   "mimetype": "text/x-python",
   "name": "python",
   "nbconvert_exporter": "python",
   "pygments_lexer": "ipython3",
   "version": "3.12.9"
  }
 },
 "nbformat": 4,
 "nbformat_minor": 5
}
